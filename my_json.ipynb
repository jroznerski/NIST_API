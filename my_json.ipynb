{
 "cells": [
  {
   "cell_type": "code",
   "execution_count": 1,
   "outputs": [],
   "source": [
    "import pandas as pd\n",
    "import json\n",
    "import re"
   ],
   "metadata": {
    "collapsed": false,
    "ExecuteTime": {
     "end_time": "2023-09-21T09:09:04.657211200Z",
     "start_time": "2023-09-21T09:09:00.679119Z"
    }
   },
   "id": "a2bf0c98fe185393"
  },
  {
   "cell_type": "code",
   "execution_count": 2,
   "outputs": [
    {
     "name": "stdout",
     "output_type": "stream",
     "text": [
      "Dane zapisane do pliku vulnerabilities.csv\n"
     ]
    }
   ],
   "source": [
    "with open('dane.json', 'r', encoding='utf-8') as file:\n",
    "    data = json.load(file)\n",
    "\n",
    "df = pd.DataFrame(data)\n",
    "\n",
    "vulnerabilities_list = []\n",
    "\n",
    "vulnerabilities_info = df['vulnerabilities']\n",
    "\n",
    "for vulnerability in vulnerabilities_info:\n",
    "    cve_info = vulnerability['cve']\n",
    "    cve_id = cve_info['id']\n",
    "    descriptions = cve_info['descriptions']\n",
    "    \n",
    "    for desc in descriptions:\n",
    "        lang = desc['lang']\n",
    "        if lang == 'en': \n",
    "            description = desc['value'].replace('\\n', '')\n",
    "            references = cve_info.get('references', [])\n",
    "            for reference in references:\n",
    "                url = reference.get('url', '')\n",
    "                vulnerabilities_list.append([cve_id, description, url])\n",
    "\n",
    "vulnerabilities_df = pd.DataFrame(vulnerabilities_list, columns=['CVE-ID', 'Description', 'URL'])\n",
    "\n",
    "vulnerabilities_df = vulnerabilities_df.dropna(how='any')\n",
    "\n",
    "vulnerabilities_df.to_csv('vulnerabilities.csv', index=False)\n",
    "\n",
    "print(\"Dane zapisane do pliku vulnerabilities.csv\")"
   ],
   "metadata": {
    "collapsed": false,
    "ExecuteTime": {
     "end_time": "2023-09-21T09:09:04.753900400Z",
     "start_time": "2023-09-21T09:09:04.661173200Z"
    }
   },
   "id": "9e47081589d0a1f8"
  },
  {
   "cell_type": "code",
   "execution_count": 3,
   "outputs": [],
   "source": [
    "df_app = pd.read_csv('aplikacje.csv', encoding='latin1')\n",
    "df_app['Nazwa aplikacji'] = df_app['Nazwa aplikacji'].str.lower()\n",
    "df_app.to_csv('aplikacje.csv', index=False)"
   ],
   "metadata": {
    "collapsed": false,
    "ExecuteTime": {
     "end_time": "2023-09-21T09:09:04.824752600Z",
     "start_time": "2023-09-21T09:09:04.751904800Z"
    }
   },
   "id": "d92affe40c66426f"
  },
  {
   "cell_type": "code",
   "execution_count": 4,
   "outputs": [
    {
     "name": "stdout",
     "output_type": "stream",
     "text": [
      "Powtarzający się tekst: microsoft edge\n",
      "Indeksy wulnerabiliti: [256, 257, 258]\n"
     ]
    }
   ],
   "source": [
    "df_aplikacje = pd.read_csv('aplikacje.csv')\n",
    "df_vulnerabilities = pd.read_csv('vulnerabilities.csv')\n",
    "\n",
    "unikalne_wyrazy = df_aplikacje['Nazwa aplikacji'].unique()\n",
    "\n",
    "pasujace_wyrazy = {}\n",
    "\n",
    "for wyraz in unikalne_wyrazy:\n",
    "    unikalne_wyrazy_esc = re.escape(wyraz)\n",
    "    wyrazenie_regularne = fr'\\b{unikalne_wyrazy_esc}\\b'\n",
    "    pasujace_indeksy = df_vulnerabilities[df_vulnerabilities['Description'].str.contains(wyrazenie_regularne, flags=re.IGNORECASE, na=False)].index.tolist()\n",
    "    if pasujace_indeksy:\n",
    "        pasujace_wyrazy[wyraz] = pasujace_indeksy\n",
    "\n",
    "df_połączone = df_vulnerabilities[df_vulnerabilities.index.isin([indeks for indeksy in pasujace_wyrazy.values() for indeks in indeksy])]\n",
    "\n",
    "df_połączone.to_csv('połączone.csv', index=False)\n",
    "\n",
    "for wyraz, indeksy in pasujace_wyrazy.items():\n",
    "    print(f\"Powtarzający się tekst: {wyraz}\")\n",
    "    print(f\"Indeksy: {indeksy}\")"
   ],
   "metadata": {
    "collapsed": false,
    "ExecuteTime": {
     "end_time": "2023-09-21T09:09:05.108280900Z",
     "start_time": "2023-09-21T09:09:04.782861200Z"
    }
   },
   "id": "554faa9f74b3eb2a"
  }
 ],
 "metadata": {
  "kernelspec": {
   "display_name": "Python 3",
   "language": "python",
   "name": "python3"
  },
  "language_info": {
   "codemirror_mode": {
    "name": "ipython",
    "version": 2
   },
   "file_extension": ".py",
   "mimetype": "text/x-python",
   "name": "python",
   "nbconvert_exporter": "python",
   "pygments_lexer": "ipython2",
   "version": "2.7.6"
  }
 },
 "nbformat": 4,
 "nbformat_minor": 5
}
